{
 "cells": [
  {
   "cell_type": "code",
   "execution_count": 2,
   "id": "010a0874",
   "metadata": {},
   "outputs": [],
   "source": [
    "import numpy as np\n",
    "import pandas as pd"
   ]
  },
  {
   "cell_type": "code",
   "execution_count": 3,
   "id": "b1b64a55",
   "metadata": {},
   "outputs": [],
   "source": [
    "from sklearn. impute import SimpleImputer"
   ]
  },
  {
   "cell_type": "code",
   "execution_count": 4,
   "id": "cfcecb6c",
   "metadata": {},
   "outputs": [],
   "source": [
    "df=pd.read_csv('project 1.csv')"
   ]
  },
  {
   "cell_type": "code",
   "execution_count": 5,
   "id": "2b49df9a",
   "metadata": {},
   "outputs": [
    {
     "data": {
      "text/html": [
       "<div>\n",
       "<style scoped>\n",
       "    .dataframe tbody tr th:only-of-type {\n",
       "        vertical-align: middle;\n",
       "    }\n",
       "\n",
       "    .dataframe tbody tr th {\n",
       "        vertical-align: top;\n",
       "    }\n",
       "\n",
       "    .dataframe thead th {\n",
       "        text-align: right;\n",
       "    }\n",
       "</style>\n",
       "<table border=\"1\" class=\"dataframe\">\n",
       "  <thead>\n",
       "    <tr style=\"text-align: right;\">\n",
       "      <th></th>\n",
       "      <th>Country/Region</th>\n",
       "      <th>Confirmed</th>\n",
       "      <th>Deaths</th>\n",
       "      <th>Recovered</th>\n",
       "      <th>Active</th>\n",
       "      <th>New cases</th>\n",
       "      <th>New deaths</th>\n",
       "      <th>New recovered</th>\n",
       "      <th>Deaths / 100 Cases</th>\n",
       "      <th>Recovered / 100 Cases</th>\n",
       "      <th>Deaths / 100 Recovered</th>\n",
       "      <th>Confirmed last week</th>\n",
       "      <th>1 week change</th>\n",
       "      <th>1 week % increase</th>\n",
       "      <th>WHO Region</th>\n",
       "    </tr>\n",
       "  </thead>\n",
       "  <tbody>\n",
       "    <tr>\n",
       "      <th>0</th>\n",
       "      <td>Afghanistan</td>\n",
       "      <td>36263</td>\n",
       "      <td>1269</td>\n",
       "      <td>25198</td>\n",
       "      <td>9796</td>\n",
       "      <td>106</td>\n",
       "      <td>10</td>\n",
       "      <td>18</td>\n",
       "      <td>3.50</td>\n",
       "      <td>69.49</td>\n",
       "      <td>5.04</td>\n",
       "      <td>35526</td>\n",
       "      <td>737</td>\n",
       "      <td>2.07</td>\n",
       "      <td>Eastern Mediterranean</td>\n",
       "    </tr>\n",
       "    <tr>\n",
       "      <th>1</th>\n",
       "      <td>Albania</td>\n",
       "      <td>4880</td>\n",
       "      <td>144</td>\n",
       "      <td>2745</td>\n",
       "      <td>1991</td>\n",
       "      <td>117</td>\n",
       "      <td>6</td>\n",
       "      <td>63</td>\n",
       "      <td>2.95</td>\n",
       "      <td>56.25</td>\n",
       "      <td>5.25</td>\n",
       "      <td>4171</td>\n",
       "      <td>709</td>\n",
       "      <td>17.00</td>\n",
       "      <td>Europe</td>\n",
       "    </tr>\n",
       "    <tr>\n",
       "      <th>2</th>\n",
       "      <td>Algeria</td>\n",
       "      <td>27973</td>\n",
       "      <td>1163</td>\n",
       "      <td>18837</td>\n",
       "      <td>7973</td>\n",
       "      <td>616</td>\n",
       "      <td>8</td>\n",
       "      <td>749</td>\n",
       "      <td>4.16</td>\n",
       "      <td>67.34</td>\n",
       "      <td>6.17</td>\n",
       "      <td>23691</td>\n",
       "      <td>4282</td>\n",
       "      <td>18.07</td>\n",
       "      <td>Africa</td>\n",
       "    </tr>\n",
       "    <tr>\n",
       "      <th>3</th>\n",
       "      <td>Andorra</td>\n",
       "      <td>907</td>\n",
       "      <td>52</td>\n",
       "      <td>803</td>\n",
       "      <td>52</td>\n",
       "      <td>10</td>\n",
       "      <td>0</td>\n",
       "      <td>0</td>\n",
       "      <td>5.73</td>\n",
       "      <td>88.53</td>\n",
       "      <td>6.48</td>\n",
       "      <td>884</td>\n",
       "      <td>23</td>\n",
       "      <td>2.60</td>\n",
       "      <td>Europe</td>\n",
       "    </tr>\n",
       "    <tr>\n",
       "      <th>4</th>\n",
       "      <td>Angola</td>\n",
       "      <td>950</td>\n",
       "      <td>41</td>\n",
       "      <td>242</td>\n",
       "      <td>667</td>\n",
       "      <td>18</td>\n",
       "      <td>1</td>\n",
       "      <td>0</td>\n",
       "      <td>4.32</td>\n",
       "      <td>25.47</td>\n",
       "      <td>16.94</td>\n",
       "      <td>749</td>\n",
       "      <td>201</td>\n",
       "      <td>26.84</td>\n",
       "      <td>Africa</td>\n",
       "    </tr>\n",
       "    <tr>\n",
       "      <th>...</th>\n",
       "      <td>...</td>\n",
       "      <td>...</td>\n",
       "      <td>...</td>\n",
       "      <td>...</td>\n",
       "      <td>...</td>\n",
       "      <td>...</td>\n",
       "      <td>...</td>\n",
       "      <td>...</td>\n",
       "      <td>...</td>\n",
       "      <td>...</td>\n",
       "      <td>...</td>\n",
       "      <td>...</td>\n",
       "      <td>...</td>\n",
       "      <td>...</td>\n",
       "      <td>...</td>\n",
       "    </tr>\n",
       "    <tr>\n",
       "      <th>182</th>\n",
       "      <td>West Bank and Gaza</td>\n",
       "      <td>10621</td>\n",
       "      <td>78</td>\n",
       "      <td>3752</td>\n",
       "      <td>6791</td>\n",
       "      <td>152</td>\n",
       "      <td>2</td>\n",
       "      <td>0</td>\n",
       "      <td>0.73</td>\n",
       "      <td>35.33</td>\n",
       "      <td>2.08</td>\n",
       "      <td>8916</td>\n",
       "      <td>1705</td>\n",
       "      <td>19.12</td>\n",
       "      <td>Eastern Mediterranean</td>\n",
       "    </tr>\n",
       "    <tr>\n",
       "      <th>183</th>\n",
       "      <td>Western Sahara</td>\n",
       "      <td>10</td>\n",
       "      <td>1</td>\n",
       "      <td>8</td>\n",
       "      <td>1</td>\n",
       "      <td>0</td>\n",
       "      <td>0</td>\n",
       "      <td>0</td>\n",
       "      <td>10.00</td>\n",
       "      <td>80.00</td>\n",
       "      <td>12.50</td>\n",
       "      <td>10</td>\n",
       "      <td>0</td>\n",
       "      <td>0.00</td>\n",
       "      <td>Africa</td>\n",
       "    </tr>\n",
       "    <tr>\n",
       "      <th>184</th>\n",
       "      <td>Yemen</td>\n",
       "      <td>1691</td>\n",
       "      <td>483</td>\n",
       "      <td>833</td>\n",
       "      <td>375</td>\n",
       "      <td>10</td>\n",
       "      <td>4</td>\n",
       "      <td>36</td>\n",
       "      <td>28.56</td>\n",
       "      <td>49.26</td>\n",
       "      <td>57.98</td>\n",
       "      <td>1619</td>\n",
       "      <td>72</td>\n",
       "      <td>4.45</td>\n",
       "      <td>Eastern Mediterranean</td>\n",
       "    </tr>\n",
       "    <tr>\n",
       "      <th>185</th>\n",
       "      <td>Zambia</td>\n",
       "      <td>4552</td>\n",
       "      <td>140</td>\n",
       "      <td>2815</td>\n",
       "      <td>1597</td>\n",
       "      <td>71</td>\n",
       "      <td>1</td>\n",
       "      <td>465</td>\n",
       "      <td>3.08</td>\n",
       "      <td>61.84</td>\n",
       "      <td>4.97</td>\n",
       "      <td>3326</td>\n",
       "      <td>1226</td>\n",
       "      <td>36.86</td>\n",
       "      <td>Africa</td>\n",
       "    </tr>\n",
       "    <tr>\n",
       "      <th>186</th>\n",
       "      <td>Zimbabwe</td>\n",
       "      <td>2704</td>\n",
       "      <td>36</td>\n",
       "      <td>542</td>\n",
       "      <td>2126</td>\n",
       "      <td>192</td>\n",
       "      <td>2</td>\n",
       "      <td>24</td>\n",
       "      <td>1.33</td>\n",
       "      <td>20.04</td>\n",
       "      <td>6.64</td>\n",
       "      <td>1713</td>\n",
       "      <td>991</td>\n",
       "      <td>57.85</td>\n",
       "      <td>Africa</td>\n",
       "    </tr>\n",
       "  </tbody>\n",
       "</table>\n",
       "<p>187 rows × 15 columns</p>\n",
       "</div>"
      ],
      "text/plain": [
       "         Country/Region  Confirmed  Deaths  Recovered  Active  New cases  \\\n",
       "0           Afghanistan      36263    1269      25198    9796        106   \n",
       "1               Albania       4880     144       2745    1991        117   \n",
       "2               Algeria      27973    1163      18837    7973        616   \n",
       "3               Andorra        907      52        803      52         10   \n",
       "4                Angola        950      41        242     667         18   \n",
       "..                  ...        ...     ...        ...     ...        ...   \n",
       "182  West Bank and Gaza      10621      78       3752    6791        152   \n",
       "183      Western Sahara         10       1          8       1          0   \n",
       "184               Yemen       1691     483        833     375         10   \n",
       "185              Zambia       4552     140       2815    1597         71   \n",
       "186            Zimbabwe       2704      36        542    2126        192   \n",
       "\n",
       "     New deaths  New recovered  Deaths / 100 Cases  Recovered / 100 Cases  \\\n",
       "0            10             18                3.50                  69.49   \n",
       "1             6             63                2.95                  56.25   \n",
       "2             8            749                4.16                  67.34   \n",
       "3             0              0                5.73                  88.53   \n",
       "4             1              0                4.32                  25.47   \n",
       "..          ...            ...                 ...                    ...   \n",
       "182           2              0                0.73                  35.33   \n",
       "183           0              0               10.00                  80.00   \n",
       "184           4             36               28.56                  49.26   \n",
       "185           1            465                3.08                  61.84   \n",
       "186           2             24                1.33                  20.04   \n",
       "\n",
       "     Deaths / 100 Recovered  Confirmed last week  1 week change  \\\n",
       "0                      5.04                35526            737   \n",
       "1                      5.25                 4171            709   \n",
       "2                      6.17                23691           4282   \n",
       "3                      6.48                  884             23   \n",
       "4                     16.94                  749            201   \n",
       "..                      ...                  ...            ...   \n",
       "182                    2.08                 8916           1705   \n",
       "183                   12.50                   10              0   \n",
       "184                   57.98                 1619             72   \n",
       "185                    4.97                 3326           1226   \n",
       "186                    6.64                 1713            991   \n",
       "\n",
       "     1 week % increase             WHO Region  \n",
       "0                 2.07  Eastern Mediterranean  \n",
       "1                17.00                 Europe  \n",
       "2                18.07                 Africa  \n",
       "3                 2.60                 Europe  \n",
       "4                26.84                 Africa  \n",
       "..                 ...                    ...  \n",
       "182              19.12  Eastern Mediterranean  \n",
       "183               0.00                 Africa  \n",
       "184               4.45  Eastern Mediterranean  \n",
       "185              36.86                 Africa  \n",
       "186              57.85                 Africa  \n",
       "\n",
       "[187 rows x 15 columns]"
      ]
     },
     "execution_count": 5,
     "metadata": {},
     "output_type": "execute_result"
    }
   ],
   "source": [
    "df"
   ]
  },
  {
   "cell_type": "markdown",
   "id": "878c0f70",
   "metadata": {},
   "source": [
    "#### 1.Find the unique value"
   ]
  },
  {
   "cell_type": "code",
   "execution_count": 5,
   "id": "54adb758",
   "metadata": {},
   "outputs": [],
   "source": [
    "n=df['Country/Region'].nunique()"
   ]
  },
  {
   "cell_type": "code",
   "execution_count": 6,
   "id": "85862da9",
   "metadata": {},
   "outputs": [
    {
     "data": {
      "text/plain": [
       "187"
      ]
     },
     "execution_count": 6,
     "metadata": {},
     "output_type": "execute_result"
    }
   ],
   "source": [
    "n"
   ]
  },
  {
   "cell_type": "markdown",
   "id": "2ff7f508",
   "metadata": {},
   "source": [
    "#### 2. Find the null value (or) missing value"
   ]
  },
  {
   "cell_type": "code",
   "execution_count": 7,
   "id": "e4b22d17",
   "metadata": {
    "scrolled": false
   },
   "outputs": [
    {
     "data": {
      "text/plain": [
       "Country/Region            0\n",
       "Confirmed                 0\n",
       "Deaths                    0\n",
       "Recovered                 0\n",
       "Active                    0\n",
       "New cases                 0\n",
       "New deaths                0\n",
       "New recovered             0\n",
       "Deaths / 100 Cases        0\n",
       "Recovered / 100 Cases     0\n",
       "Deaths / 100 Recovered    5\n",
       "Confirmed last week       0\n",
       "1 week change             0\n",
       "1 week % increase         0\n",
       "WHO Region                0\n",
       "dtype: int64"
      ]
     },
     "execution_count": 7,
     "metadata": {},
     "output_type": "execute_result"
    }
   ],
   "source": [
    "missing_values=['NA',' ',None,np.inf,np.NaN]\n",
    "missing=df.isin(missing_values)\n",
    "missing.sum()"
   ]
  },
  {
   "cell_type": "code",
   "execution_count": 8,
   "id": "fd953f2a",
   "metadata": {},
   "outputs": [
    {
     "data": {
      "text/plain": [
       "(187,)"
      ]
     },
     "execution_count": 8,
     "metadata": {},
     "output_type": "execute_result"
    }
   ],
   "source": [
    "df['Deaths / 100 Recovered'].shape"
   ]
  },
  {
   "cell_type": "code",
   "execution_count": 9,
   "id": "80f4c5df",
   "metadata": {},
   "outputs": [],
   "source": [
    "df.replace([np.inf],np.nan,inplace=True)\n",
    "o=np.reshape(df['Deaths / 100 Recovered'].values,(187,1))\n",
    "imputer=SimpleImputer(missing_values=np.nan,strategy='mean')\n",
    "imputer.fit(o)\n",
    "o=imputer.transform(o)\n",
    "df['Deaths / 100 Recovered']=o"
   ]
  },
  {
   "cell_type": "code",
   "execution_count": 10,
   "id": "b20b214a",
   "metadata": {},
   "outputs": [
    {
     "data": {
      "text/plain": [
       "array([5.04000000e+00, 5.25000000e+00, 6.17000000e+00, 6.48000000e+00,\n",
       "       1.69400000e+01, 4.62000000e+00, 4.21000000e+00, 2.67000000e+00,\n",
       "       1.79000000e+00, 3.91000000e+00, 1.82000000e+00, 1.20900000e+01,\n",
       "       3.90000000e-01, 2.36000000e+00, 7.45000000e+00, 8.90000000e-01,\n",
       "       5.62800000e+01, 7.69000000e+00, 3.38000000e+00, 0.00000000e+00,\n",
       "       1.23200000e+01, 5.96000000e+00, 3.17000000e+00, 4.74000000e+00,\n",
       "       2.17000000e+00, 6.21000000e+00, 5.72000000e+00, 2.05000000e+00,\n",
       "       3.30000000e-01, 1.42000000e+00, 0.00000000e+00, 2.69000000e+00,\n",
       "       4.05582967e+01, 3.82000000e+00, 9.26000000e+00, 2.87000000e+00,\n",
       "       5.90000000e+00, 6.69000000e+00, 2.13000000e+00, 6.51000000e+00,\n",
       "       3.65000000e+00, 3.01000000e+00, 9.30000000e-01, 3.53000000e+00,\n",
       "       3.70000000e+00, 2.23000000e+00, 3.26000000e+00, 4.86000000e+00,\n",
       "       1.17000000e+00, 0.00000000e+00, 3.59000000e+00, 1.58500000e+01,\n",
       "       1.33500000e+01, 5.25000000e+00, 6.06000000e+00, 0.00000000e+00,\n",
       "       3.59000000e+00, 3.32000000e+00, 3.57000000e+00, 0.00000000e+00,\n",
       "       4.75000000e+00, 3.72000000e+01, 1.05000000e+00, 1.21200000e+01,\n",
       "       1.74000000e+00, 4.79000000e+00, 5.60000000e-01, 1.47000000e+01,\n",
       "       0.00000000e+00, 0.00000000e+00, 5.43000000e+00, 7.20000000e-01,\n",
       "       3.24000000e+00, 1.10500000e+01, 3.62000000e+00, 0.00000000e+00,\n",
       "       2.31400000e+01, 1.79000000e+01, 5.50000000e-01, 3.51000000e+00,\n",
       "       8.32000000e+00, 6.24000000e+00, 5.78000000e+00, 7.55000000e+00,\n",
       "       1.75000000e+00, 1.76800000e+01, 1.40000000e+00, 4.54000000e+00,\n",
       "       1.06000000e+00, 1.08000000e+00, 3.64000000e+00, 4.59000000e+00,\n",
       "       8.00000000e-01, 6.14000000e+00, 0.00000000e+00, 2.97000000e+00,\n",
       "       2.98000000e+00, 9.38000000e+00, 1.11500000e+01, 1.10900000e+01,\n",
       "       1.23000000e+00, 4.94000000e+00, 2.32000000e+00, 1.45000000e+00,\n",
       "       6.02000000e+00, 1.44000000e+00, 5.90000000e-01, 6.48000000e+00,\n",
       "       1.35000000e+00, 3.35000000e+00, 3.01000000e+00, 1.44900000e+01,\n",
       "       4.63000000e+00, 3.85000000e+00, 0.00000000e+00, 5.56000000e+00,\n",
       "       1.91000000e+00, 4.05582967e+01, 7.92000000e+00, 3.50000000e-01,\n",
       "       3.25926000e+03, 1.45000000e+00, 4.33000000e+00, 6.72000000e+00,\n",
       "       4.72000000e+00, 8.38000000e+00, 2.91000000e+00, 6.90000000e-01,\n",
       "       2.42000000e+00, 3.77000000e+00, 0.00000000e+00, 1.48000000e+00,\n",
       "       6.76000000e+00, 7.35000000e+00, 5.10000000e+00, 4.86000000e+00,\n",
       "       1.60000000e-01, 8.55000000e+00, 2.21000000e+00, 5.10000000e-01,\n",
       "       0.00000000e+00, 0.00000000e+00, 0.00000000e+00, 6.39000000e+00,\n",
       "       1.91000000e+00, 1.24000000e+00, 3.00000000e+00, 4.05582967e+01,\n",
       "       0.00000000e+00, 5.01000000e+00, 6.00000000e-02, 1.73000000e+00,\n",
       "       6.69000000e+00, 6.03000000e+00, 2.57000000e+00, 2.31000000e+00,\n",
       "       3.91000000e+00, 1.89100000e+01, 5.20000000e-01, 1.21200000e+01,\n",
       "       2.59000000e+00, 4.05582967e+01, 6.40000000e+00, 4.05582967e+01,\n",
       "       1.59000000e+00, 1.00000000e+00, 1.14800000e+01, 1.86000000e+00,\n",
       "       0.00000000e+00, 2.97000000e+00, 6.25000000e+00, 4.32000000e+00,\n",
       "       2.67000000e+00, 1.11600000e+01, 2.00000000e-01, 4.40000000e+00,\n",
       "       6.60000000e-01, 3.19026000e+03, 3.68000000e+00, 1.04000000e+00,\n",
       "       1.47000000e+00, 0.00000000e+00, 2.08000000e+00, 1.25000000e+01,\n",
       "       5.79800000e+01, 4.97000000e+00, 6.64000000e+00])"
      ]
     },
     "execution_count": 10,
     "metadata": {},
     "output_type": "execute_result"
    }
   ],
   "source": [
    "df['Deaths / 100 Recovered'].values"
   ]
  },
  {
   "cell_type": "markdown",
   "id": "919085ec",
   "metadata": {},
   "source": [
    "#### 3. Maximum number of confirmed cases"
   ]
  },
  {
   "cell_type": "code",
   "execution_count": 11,
   "id": "e276a4e4",
   "metadata": {},
   "outputs": [],
   "source": [
    "a=max(df['Country/Region']),max(df['Confirmed'])"
   ]
  },
  {
   "cell_type": "code",
   "execution_count": 12,
   "id": "64db112b",
   "metadata": {},
   "outputs": [
    {
     "data": {
      "text/plain": [
       "('Zimbabwe', 4290259)"
      ]
     },
     "execution_count": 12,
     "metadata": {},
     "output_type": "execute_result"
    }
   ],
   "source": [
    "a"
   ]
  },
  {
   "cell_type": "markdown",
   "id": "866e324e",
   "metadata": {},
   "source": [
    "#### 4. Maximum number of Deaths cases"
   ]
  },
  {
   "cell_type": "code",
   "execution_count": 13,
   "id": "ba762683",
   "metadata": {},
   "outputs": [],
   "source": [
    "a=max(df['Country/Region']),max(df['Deaths'])"
   ]
  },
  {
   "cell_type": "code",
   "execution_count": 14,
   "id": "eea25596",
   "metadata": {},
   "outputs": [
    {
     "data": {
      "text/plain": [
       "('Zimbabwe', 148011)"
      ]
     },
     "execution_count": 14,
     "metadata": {},
     "output_type": "execute_result"
    }
   ],
   "source": [
    "a"
   ]
  },
  {
   "cell_type": "markdown",
   "id": "02849a43",
   "metadata": {},
   "source": [
    "#### 5. Average Number of case all countrie"
   ]
  },
  {
   "cell_type": "code",
   "execution_count": 15,
   "id": "9f95690f",
   "metadata": {},
   "outputs": [
    {
     "name": "stdout",
     "output_type": "stream",
     "text": [
      "88130.935828877\n"
     ]
    }
   ],
   "source": [
    "ary=0\n",
    "for i in df['Confirmed']:\n",
    "    ary+=i\n",
    "print(ary/len(df))"
   ]
  },
  {
   "cell_type": "markdown",
   "id": "f5ee660a",
   "metadata": {},
   "source": [
    "#### 6. Total number of deaths"
   ]
  },
  {
   "cell_type": "code",
   "execution_count": 16,
   "id": "30ee3f0e",
   "metadata": {},
   "outputs": [
    {
     "name": "stdout",
     "output_type": "stream",
     "text": [
      "654036\n"
     ]
    }
   ],
   "source": [
    "tot=0\n",
    "for i in df['Deaths']:\n",
    "    tot+=i\n",
    "print(tot)"
   ]
  },
  {
   "cell_type": "markdown",
   "id": "6b9b9fd3",
   "metadata": {},
   "source": [
    "#### 7.Total number of comfirmed case"
   ]
  },
  {
   "cell_type": "code",
   "execution_count": 17,
   "id": "b282a928",
   "metadata": {},
   "outputs": [
    {
     "name": "stdout",
     "output_type": "stream",
     "text": [
      "16480485\n"
     ]
    }
   ],
   "source": [
    "tot=0\n",
    "for i in df['Confirmed']:\n",
    "    tot+=i\n",
    "print(tot)"
   ]
  },
  {
   "cell_type": "markdown",
   "id": "5bb572c0",
   "metadata": {},
   "source": [
    "#### 8.The highest death percentage\n"
   ]
  },
  {
   "cell_type": "code",
   "execution_count": 18,
   "id": "3783f59c",
   "metadata": {},
   "outputs": [
    {
     "data": {
      "text/plain": [
       "(28.56, 'Zimbabwe')"
      ]
     },
     "execution_count": 18,
     "metadata": {},
     "output_type": "execute_result"
    }
   ],
   "source": [
    "max(df['Deaths / 100 Cases']),max(df['Country/Region'])"
   ]
  },
  {
   "cell_type": "markdown",
   "id": "0f326c71",
   "metadata": {},
   "source": [
    "#### 9.The highest Recovered percentage"
   ]
  },
  {
   "cell_type": "code",
   "execution_count": 19,
   "id": "38853f53",
   "metadata": {},
   "outputs": [
    {
     "data": {
      "text/plain": [
       "(100.0, 'Zimbabwe')"
      ]
     },
     "execution_count": 19,
     "metadata": {},
     "output_type": "execute_result"
    }
   ],
   "source": [
    "max(df['Recovered / 100 Cases']),max(df['Country/Region'])"
   ]
  },
  {
   "cell_type": "markdown",
   "id": "3d6b44a5",
   "metadata": {},
   "source": [
    "####  10.Active Cases Ratio"
   ]
  },
  {
   "cell_type": "code",
   "execution_count": 20,
   "id": "738ea019",
   "metadata": {},
   "outputs": [
    {
     "data": {
      "text/html": [
       "<div>\n",
       "<style scoped>\n",
       "    .dataframe tbody tr th:only-of-type {\n",
       "        vertical-align: middle;\n",
       "    }\n",
       "\n",
       "    .dataframe tbody tr th {\n",
       "        vertical-align: top;\n",
       "    }\n",
       "\n",
       "    .dataframe thead th {\n",
       "        text-align: right;\n",
       "    }\n",
       "</style>\n",
       "<table border=\"1\" class=\"dataframe\">\n",
       "  <thead>\n",
       "    <tr style=\"text-align: right;\">\n",
       "      <th></th>\n",
       "      <th>Active Cases Ratio</th>\n",
       "    </tr>\n",
       "  </thead>\n",
       "  <tbody>\n",
       "    <tr>\n",
       "      <th>0</th>\n",
       "      <td>92.415094</td>\n",
       "    </tr>\n",
       "    <tr>\n",
       "      <th>1</th>\n",
       "      <td>17.017094</td>\n",
       "    </tr>\n",
       "    <tr>\n",
       "      <th>2</th>\n",
       "      <td>12.943182</td>\n",
       "    </tr>\n",
       "    <tr>\n",
       "      <th>3</th>\n",
       "      <td>5.200000</td>\n",
       "    </tr>\n",
       "    <tr>\n",
       "      <th>4</th>\n",
       "      <td>37.055556</td>\n",
       "    </tr>\n",
       "    <tr>\n",
       "      <th>...</th>\n",
       "      <td>...</td>\n",
       "    </tr>\n",
       "    <tr>\n",
       "      <th>182</th>\n",
       "      <td>44.677632</td>\n",
       "    </tr>\n",
       "    <tr>\n",
       "      <th>183</th>\n",
       "      <td>inf</td>\n",
       "    </tr>\n",
       "    <tr>\n",
       "      <th>184</th>\n",
       "      <td>37.500000</td>\n",
       "    </tr>\n",
       "    <tr>\n",
       "      <th>185</th>\n",
       "      <td>22.492958</td>\n",
       "    </tr>\n",
       "    <tr>\n",
       "      <th>186</th>\n",
       "      <td>11.072917</td>\n",
       "    </tr>\n",
       "  </tbody>\n",
       "</table>\n",
       "<p>187 rows × 1 columns</p>\n",
       "</div>"
      ],
      "text/plain": [
       "     Active Cases Ratio\n",
       "0             92.415094\n",
       "1             17.017094\n",
       "2             12.943182\n",
       "3              5.200000\n",
       "4             37.055556\n",
       "..                  ...\n",
       "182           44.677632\n",
       "183                 inf\n",
       "184           37.500000\n",
       "185           22.492958\n",
       "186           11.072917\n",
       "\n",
       "[187 rows x 1 columns]"
      ]
     },
     "execution_count": 20,
     "metadata": {},
     "output_type": "execute_result"
    }
   ],
   "source": [
    "a=df['Active']/df['New cases']\n",
    "d=pd.DataFrame(a,columns=['Active Cases Ratio'])\n",
    "d\n"
   ]
  },
  {
   "cell_type": "code",
   "execution_count": 21,
   "id": "eb934f6e",
   "metadata": {},
   "outputs": [],
   "source": [
    "df['Active Cases Ratio']=d"
   ]
  },
  {
   "cell_type": "code",
   "execution_count": 22,
   "id": "bd1b884a",
   "metadata": {},
   "outputs": [],
   "source": [
    "df.replace([np.inf],np.nan,inplace=True)\n",
    "o=np.reshape(df['Active Cases Ratio'].values,(187,1))\n",
    "imputer=SimpleImputer(missing_values=np.nan,strategy='most_frequent')\n",
    "imputer.fit(o)\n",
    "o=imputer.transform(o)\n",
    "df['Active Cases Ratio']=o\n"
   ]
  },
  {
   "cell_type": "code",
   "execution_count": 23,
   "id": "896d139f",
   "metadata": {},
   "outputs": [
    {
     "data": {
      "text/html": [
       "<div>\n",
       "<style scoped>\n",
       "    .dataframe tbody tr th:only-of-type {\n",
       "        vertical-align: middle;\n",
       "    }\n",
       "\n",
       "    .dataframe tbody tr th {\n",
       "        vertical-align: top;\n",
       "    }\n",
       "\n",
       "    .dataframe thead th {\n",
       "        text-align: right;\n",
       "    }\n",
       "</style>\n",
       "<table border=\"1\" class=\"dataframe\">\n",
       "  <thead>\n",
       "    <tr style=\"text-align: right;\">\n",
       "      <th></th>\n",
       "      <th>Country/Region</th>\n",
       "      <th>Confirmed</th>\n",
       "      <th>Deaths</th>\n",
       "      <th>Recovered</th>\n",
       "      <th>Active</th>\n",
       "      <th>New cases</th>\n",
       "      <th>New deaths</th>\n",
       "      <th>New recovered</th>\n",
       "      <th>Deaths / 100 Cases</th>\n",
       "      <th>Recovered / 100 Cases</th>\n",
       "      <th>Deaths / 100 Recovered</th>\n",
       "      <th>Confirmed last week</th>\n",
       "      <th>1 week change</th>\n",
       "      <th>1 week % increase</th>\n",
       "      <th>WHO Region</th>\n",
       "      <th>Active Cases Ratio</th>\n",
       "    </tr>\n",
       "  </thead>\n",
       "  <tbody>\n",
       "    <tr>\n",
       "      <th>0</th>\n",
       "      <td>Afghanistan</td>\n",
       "      <td>36263</td>\n",
       "      <td>1269</td>\n",
       "      <td>25198</td>\n",
       "      <td>9796</td>\n",
       "      <td>106</td>\n",
       "      <td>10</td>\n",
       "      <td>18</td>\n",
       "      <td>3.50</td>\n",
       "      <td>69.49</td>\n",
       "      <td>5.04</td>\n",
       "      <td>35526</td>\n",
       "      <td>737</td>\n",
       "      <td>2.07</td>\n",
       "      <td>Eastern Mediterranean</td>\n",
       "      <td>92.415094</td>\n",
       "    </tr>\n",
       "    <tr>\n",
       "      <th>1</th>\n",
       "      <td>Albania</td>\n",
       "      <td>4880</td>\n",
       "      <td>144</td>\n",
       "      <td>2745</td>\n",
       "      <td>1991</td>\n",
       "      <td>117</td>\n",
       "      <td>6</td>\n",
       "      <td>63</td>\n",
       "      <td>2.95</td>\n",
       "      <td>56.25</td>\n",
       "      <td>5.25</td>\n",
       "      <td>4171</td>\n",
       "      <td>709</td>\n",
       "      <td>17.00</td>\n",
       "      <td>Europe</td>\n",
       "      <td>17.017094</td>\n",
       "    </tr>\n",
       "    <tr>\n",
       "      <th>2</th>\n",
       "      <td>Algeria</td>\n",
       "      <td>27973</td>\n",
       "      <td>1163</td>\n",
       "      <td>18837</td>\n",
       "      <td>7973</td>\n",
       "      <td>616</td>\n",
       "      <td>8</td>\n",
       "      <td>749</td>\n",
       "      <td>4.16</td>\n",
       "      <td>67.34</td>\n",
       "      <td>6.17</td>\n",
       "      <td>23691</td>\n",
       "      <td>4282</td>\n",
       "      <td>18.07</td>\n",
       "      <td>Africa</td>\n",
       "      <td>12.943182</td>\n",
       "    </tr>\n",
       "    <tr>\n",
       "      <th>3</th>\n",
       "      <td>Andorra</td>\n",
       "      <td>907</td>\n",
       "      <td>52</td>\n",
       "      <td>803</td>\n",
       "      <td>52</td>\n",
       "      <td>10</td>\n",
       "      <td>0</td>\n",
       "      <td>0</td>\n",
       "      <td>5.73</td>\n",
       "      <td>88.53</td>\n",
       "      <td>6.48</td>\n",
       "      <td>884</td>\n",
       "      <td>23</td>\n",
       "      <td>2.60</td>\n",
       "      <td>Europe</td>\n",
       "      <td>5.200000</td>\n",
       "    </tr>\n",
       "    <tr>\n",
       "      <th>4</th>\n",
       "      <td>Angola</td>\n",
       "      <td>950</td>\n",
       "      <td>41</td>\n",
       "      <td>242</td>\n",
       "      <td>667</td>\n",
       "      <td>18</td>\n",
       "      <td>1</td>\n",
       "      <td>0</td>\n",
       "      <td>4.32</td>\n",
       "      <td>25.47</td>\n",
       "      <td>16.94</td>\n",
       "      <td>749</td>\n",
       "      <td>201</td>\n",
       "      <td>26.84</td>\n",
       "      <td>Africa</td>\n",
       "      <td>37.055556</td>\n",
       "    </tr>\n",
       "    <tr>\n",
       "      <th>5</th>\n",
       "      <td>Antigua and Barbuda</td>\n",
       "      <td>86</td>\n",
       "      <td>3</td>\n",
       "      <td>65</td>\n",
       "      <td>18</td>\n",
       "      <td>4</td>\n",
       "      <td>0</td>\n",
       "      <td>5</td>\n",
       "      <td>3.49</td>\n",
       "      <td>75.58</td>\n",
       "      <td>4.62</td>\n",
       "      <td>76</td>\n",
       "      <td>10</td>\n",
       "      <td>13.16</td>\n",
       "      <td>Americas</td>\n",
       "      <td>4.500000</td>\n",
       "    </tr>\n",
       "    <tr>\n",
       "      <th>6</th>\n",
       "      <td>Argentina</td>\n",
       "      <td>167416</td>\n",
       "      <td>3059</td>\n",
       "      <td>72575</td>\n",
       "      <td>91782</td>\n",
       "      <td>4890</td>\n",
       "      <td>120</td>\n",
       "      <td>2057</td>\n",
       "      <td>1.83</td>\n",
       "      <td>43.35</td>\n",
       "      <td>4.21</td>\n",
       "      <td>130774</td>\n",
       "      <td>36642</td>\n",
       "      <td>28.02</td>\n",
       "      <td>Americas</td>\n",
       "      <td>18.769325</td>\n",
       "    </tr>\n",
       "    <tr>\n",
       "      <th>7</th>\n",
       "      <td>Armenia</td>\n",
       "      <td>37390</td>\n",
       "      <td>711</td>\n",
       "      <td>26665</td>\n",
       "      <td>10014</td>\n",
       "      <td>73</td>\n",
       "      <td>6</td>\n",
       "      <td>187</td>\n",
       "      <td>1.90</td>\n",
       "      <td>71.32</td>\n",
       "      <td>2.67</td>\n",
       "      <td>34981</td>\n",
       "      <td>2409</td>\n",
       "      <td>6.89</td>\n",
       "      <td>Europe</td>\n",
       "      <td>137.178082</td>\n",
       "    </tr>\n",
       "    <tr>\n",
       "      <th>8</th>\n",
       "      <td>Australia</td>\n",
       "      <td>15303</td>\n",
       "      <td>167</td>\n",
       "      <td>9311</td>\n",
       "      <td>5825</td>\n",
       "      <td>368</td>\n",
       "      <td>6</td>\n",
       "      <td>137</td>\n",
       "      <td>1.09</td>\n",
       "      <td>60.84</td>\n",
       "      <td>1.79</td>\n",
       "      <td>12428</td>\n",
       "      <td>2875</td>\n",
       "      <td>23.13</td>\n",
       "      <td>Western Pacific</td>\n",
       "      <td>15.828804</td>\n",
       "    </tr>\n",
       "    <tr>\n",
       "      <th>9</th>\n",
       "      <td>Austria</td>\n",
       "      <td>20558</td>\n",
       "      <td>713</td>\n",
       "      <td>18246</td>\n",
       "      <td>1599</td>\n",
       "      <td>86</td>\n",
       "      <td>1</td>\n",
       "      <td>37</td>\n",
       "      <td>3.47</td>\n",
       "      <td>88.75</td>\n",
       "      <td>3.91</td>\n",
       "      <td>19743</td>\n",
       "      <td>815</td>\n",
       "      <td>4.13</td>\n",
       "      <td>Europe</td>\n",
       "      <td>18.593023</td>\n",
       "    </tr>\n",
       "  </tbody>\n",
       "</table>\n",
       "</div>"
      ],
      "text/plain": [
       "        Country/Region  Confirmed  Deaths  Recovered  Active  New cases  \\\n",
       "0          Afghanistan      36263    1269      25198    9796        106   \n",
       "1              Albania       4880     144       2745    1991        117   \n",
       "2              Algeria      27973    1163      18837    7973        616   \n",
       "3              Andorra        907      52        803      52         10   \n",
       "4               Angola        950      41        242     667         18   \n",
       "5  Antigua and Barbuda         86       3         65      18          4   \n",
       "6            Argentina     167416    3059      72575   91782       4890   \n",
       "7              Armenia      37390     711      26665   10014         73   \n",
       "8            Australia      15303     167       9311    5825        368   \n",
       "9              Austria      20558     713      18246    1599         86   \n",
       "\n",
       "   New deaths  New recovered  Deaths / 100 Cases  Recovered / 100 Cases  \\\n",
       "0          10             18                3.50                  69.49   \n",
       "1           6             63                2.95                  56.25   \n",
       "2           8            749                4.16                  67.34   \n",
       "3           0              0                5.73                  88.53   \n",
       "4           1              0                4.32                  25.47   \n",
       "5           0              5                3.49                  75.58   \n",
       "6         120           2057                1.83                  43.35   \n",
       "7           6            187                1.90                  71.32   \n",
       "8           6            137                1.09                  60.84   \n",
       "9           1             37                3.47                  88.75   \n",
       "\n",
       "   Deaths / 100 Recovered  Confirmed last week  1 week change  \\\n",
       "0                    5.04                35526            737   \n",
       "1                    5.25                 4171            709   \n",
       "2                    6.17                23691           4282   \n",
       "3                    6.48                  884             23   \n",
       "4                   16.94                  749            201   \n",
       "5                    4.62                   76             10   \n",
       "6                    4.21               130774          36642   \n",
       "7                    2.67                34981           2409   \n",
       "8                    1.79                12428           2875   \n",
       "9                    3.91                19743            815   \n",
       "\n",
       "   1 week % increase             WHO Region  Active Cases Ratio  \n",
       "0               2.07  Eastern Mediterranean           92.415094  \n",
       "1              17.00                 Europe           17.017094  \n",
       "2              18.07                 Africa           12.943182  \n",
       "3               2.60                 Europe            5.200000  \n",
       "4              26.84                 Africa           37.055556  \n",
       "5              13.16               Americas            4.500000  \n",
       "6              28.02               Americas           18.769325  \n",
       "7               6.89                 Europe          137.178082  \n",
       "8              23.13        Western Pacific           15.828804  \n",
       "9               4.13                 Europe           18.593023  "
      ]
     },
     "execution_count": 23,
     "metadata": {},
     "output_type": "execute_result"
    }
   ],
   "source": [
    "df.head(10)"
   ]
  },
  {
   "cell_type": "markdown",
   "id": "8d74e523",
   "metadata": {},
   "source": [
    "####  11 .New DataFrame"
   ]
  },
  {
   "cell_type": "code",
   "execution_count": 7,
   "id": "6f219c64",
   "metadata": {},
   "outputs": [
    {
     "name": "stdout",
     "output_type": "stream",
     "text": [
      "               Country/Region  Confirmed  Deaths  Recovered  Active  \\\n",
      "156               South Sudan       2305      46       1175    1084   \n",
      "148                Seychelles        114       0         39      75   \n",
      "39        Congo (Brazzaville)       3200      54        829    2317   \n",
      "174                    Uganda       1128       2        986     140   \n",
      "109                Mauritania       6208     156       4653    1399   \n",
      "4                      Angola        950      41        242     667   \n",
      "55                    Eritrea        265       0        191      74   \n",
      "42              Cote d'Ivoire      15655      96      10361    5198   \n",
      "33   Central African Republic       4599      59       1546    2994   \n",
      "169                      Togo        874      18        607     249   \n",
      "118                   Namibia       1843       8        101    1734   \n",
      "28                    Burundi        378       1        301      76   \n",
      "2                     Algeria      27973    1163      18837    7973   \n",
      "154              South Africa     452529    7067     274925  170537   \n",
      "54          Equatorial Guinea       3071      51        842    2178   \n",
      "\n",
      "     New cases  New deaths  New recovered  Deaths / 100 Cases  \\\n",
      "156         43           1              0                2.00   \n",
      "148          0           0              0                0.00   \n",
      "39         162           3             73                1.69   \n",
      "174         13           0              4                0.18   \n",
      "109         37           0            223                2.51   \n",
      "4           18           1              0                4.32   \n",
      "55           2           0              2                0.00   \n",
      "42          59           0            183                0.61   \n",
      "33           0           0              0                1.28   \n",
      "169          6           0              8                2.06   \n",
      "118         68           0             26                0.43   \n",
      "28          17           0             22                0.26   \n",
      "2          616           8            749                4.16   \n",
      "154       7096         298           9848                1.56   \n",
      "54           0           0              0                1.66   \n",
      "\n",
      "     Recovered / 100 Cases  Deaths / 100 Recovered  Confirmed last week  \\\n",
      "156                  50.98                    3.91                 2211   \n",
      "148                  34.21                    0.00                  108   \n",
      "39                   25.91                    6.51                 2851   \n",
      "174                  87.41                    0.20                 1069   \n",
      "109                  74.95                    3.35                 5923   \n",
      "4                    25.47                   16.94                  749   \n",
      "55                   72.08                    0.00                  251   \n",
      "42                   66.18                    0.93                14312   \n",
      "33                   33.62                    3.82                 4548   \n",
      "169                  69.45                    2.97                  783   \n",
      "118                   5.48                    7.92                 1344   \n",
      "28                   79.63                    0.33                  322   \n",
      "2                    67.34                    6.17                23691   \n",
      "154                  60.75                    2.57               373628   \n",
      "54                   27.42                    6.06                 3071   \n",
      "\n",
      "     1 week change  1 week % increase WHO Region  \n",
      "156             94               4.25     Africa  \n",
      "148              6               5.56     Africa  \n",
      "39             349              12.24     Africa  \n",
      "174             59               5.52     Africa  \n",
      "109            285               4.81     Africa  \n",
      "4              201              26.84     Africa  \n",
      "55              14               5.58     Africa  \n",
      "42            1343               9.38     Africa  \n",
      "33              51               1.12     Africa  \n",
      "169             91              11.62     Africa  \n",
      "118            499              37.13     Africa  \n",
      "28              56              17.39     Africa  \n",
      "2             4282              18.07     Africa  \n",
      "154          78901              21.12     Africa  \n",
      "54               0               0.00     Africa  \n"
     ]
    }
   ],
   "source": [
    "WHO_Region = df[df[\"WHO Region\"] == \"Africa\"]\n",
    "print(WHO_Region.sample(15))"
   ]
  },
  {
   "cell_type": "code",
   "execution_count": null,
   "id": "0071e246",
   "metadata": {},
   "outputs": [],
   "source": []
  },
  {
   "cell_type": "code",
   "execution_count": null,
   "id": "a37f4a55",
   "metadata": {},
   "outputs": [],
   "source": []
  }
 ],
 "metadata": {
  "kernelspec": {
   "display_name": "Python 3 (ipykernel)",
   "language": "python",
   "name": "python3"
  },
  "language_info": {
   "codemirror_mode": {
    "name": "ipython",
    "version": 3
   },
   "file_extension": ".py",
   "mimetype": "text/x-python",
   "name": "python",
   "nbconvert_exporter": "python",
   "pygments_lexer": "ipython3",
   "version": "3.11.4"
  },
  "widgets": {
   "application/vnd.jupyter.widget-state+json": {
    "state": {},
    "version_major": 2,
    "version_minor": 0
   }
  }
 },
 "nbformat": 4,
 "nbformat_minor": 5
}
